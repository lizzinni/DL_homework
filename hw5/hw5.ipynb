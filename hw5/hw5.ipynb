{
 "cells": [
  {
   "cell_type": "markdown",
   "source": [
    "# Домашнее задание: Обучение и визуализация Mamba\n",
    "\n",
    "Цель задания\n",
    "\n",
    "Обучить простую модель семейства Mamba для обработки любых данных (на выбор: текст, аудио, видео, изображения и ...)\n",
    "Визуализировать веса внимания и интерпретировать их\n",
    "Сделать выводы о том, как модель воспринимает данные и принимает решения"
   ],
   "metadata": {
    "collapsed": false
   }
  },
  {
   "cell_type": "code",
   "execution_count": 11,
   "outputs": [],
   "source": [
    "! pip install torch torchvision torchaudio datasets tqdm --quiet"
   ],
   "metadata": {
    "collapsed": false,
    "ExecuteTime": {
     "end_time": "2025-06-03T16:38:48.925463Z",
     "start_time": "2025-06-03T16:38:47.970209Z"
    }
   }
  },
  {
   "cell_type": "code",
   "execution_count": 20,
   "outputs": [
    {
     "data": {
      "text/plain": "<torch._C.Generator at 0x11daf7290>"
     },
     "execution_count": 20,
     "metadata": {},
     "output_type": "execute_result"
    }
   ],
   "source": [
    "import math, re, random, collections\n",
    "import torch, torch.nn as nn, torch.nn.functional as F\n",
    "from torch.utils.data import DataLoader, Dataset\n",
    "from datasets import load_dataset\n",
    "from tqdm.auto import tqdm\n",
    "import matplotlib.pyplot as plt\n",
    "\n",
    "device = \"cpu\"\n",
    "SEED = 42\n",
    "BATCH_SIZE = 64\n",
    "LR = 3e-4\n",
    "EMB_DIM = 128\n",
    "STATE_DIM = 64\n",
    "MAX_LEN = 128\n",
    "random.seed(SEED)\n",
    "torch.manual_seed(SEED)"
   ],
   "metadata": {
    "collapsed": false,
    "ExecuteTime": {
     "end_time": "2025-06-03T16:43:24.940470Z",
     "start_time": "2025-06-03T16:43:24.934185Z"
    }
   }
  },
  {
   "cell_type": "code",
   "execution_count": 21,
   "outputs": [
    {
     "name": "stdout",
     "output_type": "stream",
     "text": [
      "Vocab size: 7230\n"
     ]
    }
   ],
   "source": [
    "RAW_TRAIN = load_dataset(\"ag_news\", split=\"train[:5000]\")\n",
    "RAW_TEST = load_dataset(\"ag_news\", split=\"test[:1000]\")\n",
    "\n",
    "\n",
    "def basic_tokenizer(text):\n",
    "    # простейшая токенизация: слова и цифры\n",
    "    return re.findall(r\"[A-Za-z]+|[0-9]+\", text.lower())\n",
    "\n",
    "\n",
    "# строим словарь\n",
    "counter = collections.Counter(tok for ex in RAW_TRAIN[\"text\"]\n",
    "                              for tok in basic_tokenizer(ex))\n",
    "itos = [\"<pad>\", \"<unk>\"] + [t for t, c in counter.items() if c >= 3]\n",
    "stoi = {t: i for i, t in enumerate(itos)}\n",
    "\n",
    "\n",
    "def encode(text):\n",
    "    return [stoi.get(tok, stoi[\"<unk>\"]) for tok in basic_tokenizer(text)][:MAX_LEN]\n",
    "\n",
    "\n",
    "class NewsDataset(Dataset):\n",
    "    def __init__(self, ds):\n",
    "        self.data = [(encode(t), l) for t, l in zip(ds[\"text\"], ds[\"label\"])]\n",
    "\n",
    "    def __len__(self): return len(self.data)\n",
    "\n",
    "    def __getitem__(self, idx): return self.data[idx]\n",
    "\n",
    "\n",
    "def collate(batch):\n",
    "    seqs, labels = zip(*batch)\n",
    "    l = [len(s) for s in seqs]\n",
    "    padded = [s + [0] * (MAX_LEN - len(s)) for s in seqs]\n",
    "    return torch.tensor(padded, dtype=torch.long), torch.tensor(labels)\n",
    "\n",
    "\n",
    "train_loader = DataLoader(NewsDataset(RAW_TRAIN), BATCH_SIZE,\n",
    "                          shuffle=True, collate_fn=collate)\n",
    "test_loader = DataLoader(NewsDataset(RAW_TEST), BATCH_SIZE,\n",
    "                         shuffle=False, collate_fn=collate)\n",
    "\n",
    "print(f\"Vocab size: {len(itos)}\")"
   ],
   "metadata": {
    "collapsed": false,
    "ExecuteTime": {
     "end_time": "2025-06-03T16:43:34.703185Z",
     "start_time": "2025-06-03T16:43:27.283013Z"
    }
   }
  },
  {
   "cell_type": "code",
   "execution_count": 22,
   "outputs": [],
   "source": [
    "class SimpleMambaBlock(nn.Module):\n",
    "    def __init__(self, d_model, d_state):\n",
    "        super().__init__()\n",
    "        self.norm = nn.LayerNorm(d_model)\n",
    "        self.in_proj = nn.Linear(d_model, d_state * 2)\n",
    "        self.w = nn.Parameter(torch.randn(d_state))  # затухание\n",
    "        self.out_proj = nn.Linear(d_state, d_model)\n",
    "\n",
    "    def forward(self, x, return_gates=False):\n",
    "        h = self.norm(x)\n",
    "        u, v = self.in_proj(h).chunk(2, dim=-1)  # [B,L,S] each\n",
    "        sigma_w = torch.sigmoid(self.w)  # [S]\n",
    "        s = torch.zeros(x.size(0), STATE_DIM, device=x.device)\n",
    "        outs, gates = [], []\n",
    "        for t in range(x.size(1)):\n",
    "            s = s * sigma_w + u[:, t]  # обновили скрытое состояние\n",
    "            g = torch.sigmoid(v[:, t])  # gate-вектор размер S\n",
    "            gates.append(g.detach())  # для визуализации\n",
    "            outs.append(self.out_proj(s * g))\n",
    "        y = torch.stack(outs, dim=1)  # [B,L,D]\n",
    "        if return_gates:\n",
    "            return x + y, torch.stack(gates, dim=1)\n",
    "        return x + y\n"
   ],
   "metadata": {
    "collapsed": false,
    "ExecuteTime": {
     "end_time": "2025-06-03T16:43:37.215589Z",
     "start_time": "2025-06-03T16:43:37.210484Z"
    }
   }
  },
  {
   "cell_type": "code",
   "execution_count": 23,
   "outputs": [
    {
     "name": "stdout",
     "output_type": "stream",
     "text": [
      "Параметров всего: 992 K\n"
     ]
    }
   ],
   "source": [
    "class MambaClassifier(nn.Module):\n",
    "    def __init__(self, vocab, num_classes):\n",
    "        super().__init__()\n",
    "        self.emb = nn.Embedding(vocab, EMB_DIM)\n",
    "        self.pos = nn.Parameter(torch.randn(MAX_LEN, EMB_DIM))\n",
    "        self.m1 = SimpleMambaBlock(EMB_DIM, STATE_DIM)\n",
    "        self.m2 = SimpleMambaBlock(EMB_DIM, STATE_DIM)\n",
    "        self.head = nn.Linear(EMB_DIM, num_classes)\n",
    "\n",
    "    def forward(self, x, return_gates=False):\n",
    "        h = self.emb(x) + self.pos[:x.size(1)]\n",
    "        h, g1 = self.m1(h, return_gates=True)  # берём g1 для визуализации\n",
    "        h = self.m2(h)\n",
    "        # сферическое усреднение по токенам\n",
    "        h = h.mean(dim=1)\n",
    "        if return_gates:\n",
    "            return self.head(h), g1  # [B,C] , [B,L,S]\n",
    "        return self.head(h)\n",
    "\n",
    "\n",
    "model = MambaClassifier(len(itos), 4).to(device)\n",
    "optimizer = torch.optim.AdamW(model.parameters(), lr=LR)\n",
    "criterion = nn.CrossEntropyLoss()\n",
    "print(\"Параметров всего:\", sum(p.numel() for p in model.parameters()) // 1_000, \"K\")"
   ],
   "metadata": {
    "collapsed": false,
    "ExecuteTime": {
     "end_time": "2025-06-03T16:43:40.020098Z",
     "start_time": "2025-06-03T16:43:39.994777Z"
    }
   }
  },
  {
   "cell_type": "code",
   "execution_count": 25,
   "outputs": [
    {
     "data": {
      "text/plain": "Epoch 1:   0%|          | 0/79 [00:00<?, ?it/s]",
      "application/vnd.jupyter.widget-view+json": {
       "version_major": 2,
       "version_minor": 0,
       "model_id": "671cdb66349843318960b7005ac95423"
      }
     },
     "metadata": {},
     "output_type": "display_data"
    },
    {
     "name": "stdout",
     "output_type": "stream",
     "text": [
      "Epoch 1\n",
      "  train acc: 0.842\n",
      "  test  acc: 0.734\n"
     ]
    },
    {
     "data": {
      "text/plain": "Epoch 2:   0%|          | 0/79 [00:00<?, ?it/s]",
      "application/vnd.jupyter.widget-view+json": {
       "version_major": 2,
       "version_minor": 0,
       "model_id": "54fc88dff71d41af8a7f3e96223f5e22"
      }
     },
     "metadata": {},
     "output_type": "display_data"
    },
    {
     "name": "stdout",
     "output_type": "stream",
     "text": [
      "Epoch 2\n",
      "  train acc: 0.848\n",
      "  test  acc: 0.726\n"
     ]
    },
    {
     "data": {
      "text/plain": "Epoch 3:   0%|          | 0/79 [00:00<?, ?it/s]",
      "application/vnd.jupyter.widget-view+json": {
       "version_major": 2,
       "version_minor": 0,
       "model_id": "7faea839485f45e78588336ca47cae69"
      }
     },
     "metadata": {},
     "output_type": "display_data"
    },
    {
     "name": "stdout",
     "output_type": "stream",
     "text": [
      "Epoch 3\n",
      "  train acc: 0.866\n",
      "  test  acc: 0.729\n"
     ]
    },
    {
     "data": {
      "text/plain": "Epoch 4:   0%|          | 0/79 [00:00<?, ?it/s]",
      "application/vnd.jupyter.widget-view+json": {
       "version_major": 2,
       "version_minor": 0,
       "model_id": "63394853a7ac4728837a1c149dc71783"
      }
     },
     "metadata": {},
     "output_type": "display_data"
    },
    {
     "name": "stdout",
     "output_type": "stream",
     "text": [
      "Epoch 4\n",
      "  train acc: 0.882\n",
      "  test  acc: 0.720\n"
     ]
    },
    {
     "data": {
      "text/plain": "Epoch 5:   0%|          | 0/79 [00:00<?, ?it/s]",
      "application/vnd.jupyter.widget-view+json": {
       "version_major": 2,
       "version_minor": 0,
       "model_id": "b6b5fde9d879440587e5af0bf0abf194"
      }
     },
     "metadata": {},
     "output_type": "display_data"
    },
    {
     "name": "stdout",
     "output_type": "stream",
     "text": [
      "Epoch 5\n",
      "  train acc: 0.890\n",
      "  test  acc: 0.744\n"
     ]
    },
    {
     "data": {
      "text/plain": "Epoch 6:   0%|          | 0/79 [00:00<?, ?it/s]",
      "application/vnd.jupyter.widget-view+json": {
       "version_major": 2,
       "version_minor": 0,
       "model_id": "5870304e777c40809d50a336974e0024"
      }
     },
     "metadata": {},
     "output_type": "display_data"
    },
    {
     "name": "stdout",
     "output_type": "stream",
     "text": [
      "Epoch 6\n",
      "  train acc: 0.907\n",
      "  test  acc: 0.743\n"
     ]
    },
    {
     "data": {
      "text/plain": "Epoch 7:   0%|          | 0/79 [00:00<?, ?it/s]",
      "application/vnd.jupyter.widget-view+json": {
       "version_major": 2,
       "version_minor": 0,
       "model_id": "a795cffd55934cb08972b455d0d30fcb"
      }
     },
     "metadata": {},
     "output_type": "display_data"
    },
    {
     "name": "stdout",
     "output_type": "stream",
     "text": [
      "Epoch 7\n",
      "  train acc: 0.914\n",
      "  test  acc: 0.754\n"
     ]
    },
    {
     "data": {
      "text/plain": "Epoch 8:   0%|          | 0/79 [00:00<?, ?it/s]",
      "application/vnd.jupyter.widget-view+json": {
       "version_major": 2,
       "version_minor": 0,
       "model_id": "e502b30d50ff439da10cdfb7d9f76f91"
      }
     },
     "metadata": {},
     "output_type": "display_data"
    },
    {
     "name": "stdout",
     "output_type": "stream",
     "text": [
      "Epoch 8\n",
      "  train acc: 0.919\n",
      "  test  acc: 0.757\n"
     ]
    },
    {
     "data": {
      "text/plain": "Epoch 9:   0%|          | 0/79 [00:00<?, ?it/s]",
      "application/vnd.jupyter.widget-view+json": {
       "version_major": 2,
       "version_minor": 0,
       "model_id": "ad5f5a308c804bd093f329f2448b837d"
      }
     },
     "metadata": {},
     "output_type": "display_data"
    },
    {
     "name": "stdout",
     "output_type": "stream",
     "text": [
      "Epoch 9\n",
      "  train acc: 0.934\n",
      "  test  acc: 0.744\n"
     ]
    },
    {
     "data": {
      "text/plain": "Epoch 10:   0%|          | 0/79 [00:00<?, ?it/s]",
      "application/vnd.jupyter.widget-view+json": {
       "version_major": 2,
       "version_minor": 0,
       "model_id": "cb4c72d97f9e41a69b9184081f6a6d11"
      }
     },
     "metadata": {},
     "output_type": "display_data"
    },
    {
     "name": "stdout",
     "output_type": "stream",
     "text": [
      "Epoch 10\n",
      "  train acc: 0.942\n",
      "  test  acc: 0.755\n"
     ]
    }
   ],
   "source": [
    "EPOCHS = 10\n",
    "for epoch in range(1, EPOCHS + 1):\n",
    "    model.train();\n",
    "    total = correct = 0\n",
    "    for x, y in tqdm(train_loader, desc=f\"Epoch {epoch}\", leave=False):\n",
    "        x, y = x.to(device), y.to(device)\n",
    "        logits = model(x)\n",
    "        loss = criterion(logits, y)\n",
    "        optimizer.zero_grad();\n",
    "        loss.backward();\n",
    "        optimizer.step()\n",
    "        total += y.size(0)\n",
    "        correct += (logits.argmax(-1) == y).sum().item()\n",
    "    print(f\"Epoch {epoch}\")\n",
    "    print(f\"  train acc: {correct / total:.3f}\")\n",
    "    # простая валидация\n",
    "    model.eval();\n",
    "    total = correct = 0\n",
    "    with torch.no_grad():\n",
    "        for x, y in test_loader:\n",
    "            x, y = x.to(device), y.to(device)\n",
    "            logits = model(x)\n",
    "            total += y.size(0)\n",
    "            correct += (logits.argmax(-1) == y).sum().item()\n",
    "    print(f\"  test  acc: {correct / total:.3f}\")"
   ],
   "metadata": {
    "collapsed": false,
    "ExecuteTime": {
     "end_time": "2025-06-03T16:48:14.057410Z",
     "start_time": "2025-06-03T16:46:31.937333Z"
    }
   }
  },
  {
   "cell_type": "markdown",
   "source": [
    "Судя по результатам, модель переобучается, тк она всё лучше запоминает train, но её способность обобщать на test растёт медленнее. Скорее всего, это происходит, потому что используется не весь датасет (использую небольшую часть датасета, чтобы обучилось быстрее).\n",
    "В целом результаты неплохие, можно улучшить, если взять больше данных + можно добавить dropout (те усложнить модель)."
   ],
   "metadata": {
    "collapsed": false
   }
  },
  {
   "cell_type": "code",
   "execution_count": 34,
   "outputs": [
    {
     "name": "stdout",
     "output_type": "stream",
     "text": [
      "Новость: AL Wrap: Oakland's Durazo Piles on Misery for Baltimore  NEW YORK (Reuters) - Erubiel Durazo's three-run homer in  the second inning helped the Oakland Athletics remain top of  the American League (AL) West with a 9-4 wi...\n",
      "Класс : 1 \n",
      "\n"
     ]
    },
    {
     "data": {
      "text/plain": "<Figure size 1400x250 with 1 Axes>",
      "image/png": "[encoded data removed]"
     },
     "metadata": {},
     "output_type": "display_data"
    },
    {
     "name": "stdout",
     "output_type": "stream",
     "text": [
      "Новость: HP brand to inject new life into ink The company splashes a new name on the inks to be used in its photo printers.\n",
      "Класс : 3 \n",
      "\n"
     ]
    },
    {
     "data": {
      "text/plain": "<Figure size 1400x250 with 1 Axes>",
      "image/png": "[encoded data removed]"
     },
     "metadata": {},
     "output_type": "display_data"
    },
    {
     "name": "stdout",
     "output_type": "stream",
     "text": [
      "Новость: Language of goals what counts for tongue-tied Ronnie and Michael England striker Michael Owen said his lack of Spanish and Ronaldo #39;s lack of English did not hinder celebrations of the Brazilian #39;s matchwinner for ...\n",
      "Класс : 1 \n",
      "\n"
     ]
    },
    {
     "data": {
      "text/plain": "<Figure size 1400x250 with 1 Axes>",
      "image/png": "[encoded data removed]"
     },
     "metadata": {},
     "output_type": "display_data"
    }
   ],
   "source": [
    "N_EXAMPLES = 3\n",
    "model.eval()\n",
    "\n",
    "for idx in random.sample(range(len(RAW_TEST)), N_EXAMPLES):\n",
    "    sent, label = RAW_TEST[idx][\"text\"], RAW_TEST[idx][\"label\"]\n",
    "    tokens = encode(sent)\n",
    "    print(\"Новость:\", sent[:220].replace(\"\\n\", \" \") + (\"...\" if len(sent) > 220 else \"\"))\n",
    "    print(\"Класс :\", label, \"\\n\")\n",
    "\n",
    "    with torch.no_grad():\n",
    "        t = torch.tensor(tokens + [0] * (MAX_LEN - len(tokens))).unsqueeze(0).to(device)\n",
    "        _, gates = model(t, return_gates=True)\n",
    "\n",
    "    g = gates.squeeze(0)\n",
    "    importance = g.mean(-1)[:len(tokens)].cpu()\n",
    "\n",
    "    plt.figure(figsize=(min(14, 0.6 * len(tokens)), 2.5))\n",
    "    plt.imshow(importance.unsqueeze(0), aspect=\"auto\")\n",
    "    plt.yticks([])\n",
    "    plt.xticks(range(len(tokens)),\n",
    "               [itos[t] for t in tokens], rotation=60, ha=\"right\")\n",
    "    plt.show()"
   ],
   "metadata": {
    "collapsed": false,
    "ExecuteTime": {
     "end_time": "2025-06-03T22:51:47.012657Z",
     "start_time": "2025-06-03T22:51:46.810023Z"
    }
   }
  },
  {
   "cell_type": "markdown",
   "source": [
    "Проанализируем отдельно каждую из 3х новостей.\n",
    "1) 1ая новость о спорте. Класс определен верно. Модель наиболее важными посчитала слова oakland, reuters, three, run, homer, athletics, american, league, west. Получается, что география клуба, названия команды/лиги и всякие спортивные термины («homer», «run») — как раз то, что отличает спортивную новость от бизнес-или tech-содержаний. Служебные слова почти глушатся.\n",
    "2) 2ая новость про науку/технологии/гаджеты. Класс тоже определен верно. Здесь наиболее важными словами были hp, brand, ink, company, photo, printers.\n",
    "3) 3я новость - снова спорт. Класс верный. Карта подчёркивает фамилии двух нападающих, страны/клубы и слово-маркер «goals». Несмотря на необычную формулировку, модель ловит спортивные сущности, но оставляет низкие веса на частицах (of, and, did)."
   ],
   "metadata": {
    "collapsed": false
   }
  },
  {
   "cell_type": "code",
   "execution_count": null,
   "outputs": [],
   "source": [],
   "metadata": {
    "collapsed": false
   }
  }
 ],
 "metadata": {
  "kernelspec": {
   "display_name": "Python 3",
   "language": "python",
   "name": "python3"
  },
  "language_info": {
   "codemirror_mode": {
    "name": "ipython",
    "version": 2
   },
   "file_extension": ".py",
   "mimetype": "text/x-python",
   "name": "python",
   "nbconvert_exporter": "python",
   "pygments_lexer": "ipython2",
   "version": "2.7.6"
  }
 },
 "nbformat": 4,
 "nbformat_minor": 0
}
